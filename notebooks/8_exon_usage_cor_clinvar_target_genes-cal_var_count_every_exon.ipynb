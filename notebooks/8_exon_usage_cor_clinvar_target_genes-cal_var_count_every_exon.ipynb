{
 "cells": [
  {
   "cell_type": "code",
   "execution_count": 1,
   "id": "36e8afb3",
   "metadata": {
    "vscode": {
     "languageId": "r"
    }
   },
   "outputs": [
    {
     "name": "stderr",
     "output_type": "stream",
     "text": [
      "You can cite this package as:\n",
      "     Patil, I. (2021). Visualizations with statistical details: The 'ggstatsplot' approach.\n",
      "     Journal of Open Source Software, 6(61), 3167, doi:10.21105/joss.03167\n",
      "\n",
      "Loading required package: ggplot2\n",
      "\n",
      "Registered S3 method overwritten by 'ggside':\n",
      "  method from   \n",
      "  +.gg   ggplot2\n",
      "\n",
      "\n",
      "Attaching package: ‘dplyr’\n",
      "\n",
      "\n",
      "The following objects are masked from ‘package:stats’:\n",
      "\n",
      "    filter, lag\n",
      "\n",
      "\n",
      "The following objects are masked from ‘package:base’:\n",
      "\n",
      "    intersect, setdiff, setequal, union\n",
      "\n",
      "\n",
      "Warning message in system2(\"/usr/bin/otool\", c(\"-L\", shQuote(DSO)), stdout = TRUE):\n",
      "“running command ''/usr/bin/otool' -L '/Users/suzheng/opt/anaconda3/envs/r4new/lib/R/library/tcltk/libs//tcltk.so'' had status 1”\n",
      "system might not have X11 capabilities; in case of errors when using dfSummary(), set st_options(use.x11 = FALSE)\n",
      "\n",
      "------------------------------------------------------------------------------\n",
      "\n",
      "You have loaded plyr after dplyr - this is likely to cause problems.\n",
      "If you need functions from both plyr and dplyr, please load plyr first, then dplyr:\n",
      "library(plyr); library(dplyr)\n",
      "\n",
      "------------------------------------------------------------------------------\n",
      "\n",
      "\n",
      "Attaching package: ‘plyr’\n",
      "\n",
      "\n",
      "The following objects are masked from ‘package:dplyr’:\n",
      "\n",
      "    arrange, count, desc, failwith, id, mutate, rename, summarise,\n",
      "    summarize\n",
      "\n",
      "\n",
      "\n",
      "Attaching package: ‘purrr’\n",
      "\n",
      "\n",
      "The following object is masked from ‘package:plyr’:\n",
      "\n",
      "    compact\n",
      "\n",
      "\n"
     ]
    }
   ],
   "source": [
    "library(ggstatsplot)\n",
    "library(ggside)\n",
    "library(dplyr)\n",
    "library(summarytools)\n",
    "library(ggfortify)\n",
    "library(plyr)\n",
    "library(purrr)"
   ]
  },
  {
   "cell_type": "code",
   "execution_count": 2,
   "id": "bad92581",
   "metadata": {
    "vscode": {
     "languageId": "r"
    }
   },
   "outputs": [],
   "source": [
    "dir <- \"/Users/suzheng/Documents/suzheng/UNSW/UNSWTasks/2022/psi_calculation/results/genomewide_PSI/psi_quanti/cor_with_clinvar/anal/\"\n",
    "setwd(dir)"
   ]
  },
  {
   "cell_type": "code",
   "execution_count": 3,
   "id": "1fa4fc6e",
   "metadata": {
    "vscode": {
     "languageId": "r"
    }
   },
   "outputs": [],
   "source": [
    "load(\"/Users/suzheng/Documents/suzheng/UNSW/UNSWTasks/2022/psi_calculation/results/genomewide_PSI/psi_quanti/target_gene_psi/data/psi_meta.Rdata\")\n",
    "psi_dir <- \"/Users/suzheng/Documents/suzheng/UNSW/UNSWTasks/2022/psi_calculation/results/genomewide_PSI/psi_quanti/target_gene_psi/\"\n"
   ]
  },
  {
   "cell_type": "code",
   "execution_count": 4,
   "id": "3e6c4e45",
   "metadata": {
    "vscode": {
     "languageId": "r"
    }
   },
   "outputs": [],
   "source": [
    "len_psi <- read.csv(\"../all.target_gene_psi.pasted.added_gene_symbols.clean\", header=T, sep=\"\\t\", check.names=F)"
   ]
  },
  {
   "cell_type": "code",
   "execution_count": 5,
   "id": "34ecbd4e",
   "metadata": {
    "vscode": {
     "languageId": "r"
    }
   },
   "outputs": [],
   "source": [
    "gene_info <- len_psi[,1:4]\n",
    "gene_info <- gene_info[match(rownames(psi_reordered), gene_info$exon),]"
   ]
  },
  {
   "cell_type": "code",
   "execution_count": 7,
   "id": "7e56a454",
   "metadata": {
    "vscode": {
     "languageId": "r"
    }
   },
   "outputs": [],
   "source": [
    "exon_coords <- read.csv(\"../gencode.v38.annotation.Exonic_Parts.LRG.noDup.gtf.exon_coord.target_genes\", header=F, sep=\"\\t\")"
   ]
  },
  {
   "cell_type": "code",
   "execution_count": 8,
   "id": "1a7415b9",
   "metadata": {
    "vscode": {
     "languageId": "r"
    }
   },
   "outputs": [],
   "source": [
    "colnames(exon_coords) <- c(\"chr\", \"start\", \"end\", \"exon\")"
   ]
  },
  {
   "cell_type": "code",
   "execution_count": 9,
   "id": "1374d43a",
   "metadata": {
    "vscode": {
     "languageId": "r"
    }
   },
   "outputs": [],
   "source": [
    "gene_info.coord <- left_join(gene_info, exon_coords, by=c(\"exon0\"=\"exon\"))"
   ]
  },
  {
   "cell_type": "code",
   "execution_count": 10,
   "id": "7df15e2f",
   "metadata": {
    "vscode": {
     "languageId": "r"
    }
   },
   "outputs": [],
   "source": [
    "gene_info.coord$index <- 1:dim(gene_info.coord)[1]"
   ]
  },
  {
   "cell_type": "code",
   "execution_count": 11,
   "id": "e612937a",
   "metadata": {
    "vscode": {
     "languageId": "r"
    }
   },
   "outputs": [],
   "source": [
    "clinvar.rt <- read.csv(\"../clinvar.vcf.selected_genes.tsv\", header=T, sep=\"\\t\")"
   ]
  },
  {
   "cell_type": "code",
   "execution_count": 12,
   "id": "84b4ec32",
   "metadata": {
    "vscode": {
     "languageId": "r"
    }
   },
   "outputs": [
    {
     "data": {
      "text/html": [
       "<style>\n",
       ".list-inline {list-style: none; margin:0; padding: 0}\n",
       ".list-inline>li {display: inline-block}\n",
       ".list-inline>li:not(:last-child)::after {content: \"\\00b7\"; padding: 0 .5ex}\n",
       "</style>\n",
       "<ol class=list-inline><li>583056</li><li>13</li></ol>\n"
      ],
      "text/latex": [
       "\\begin{enumerate*}\n",
       "\\item 583056\n",
       "\\item 13\n",
       "\\end{enumerate*}\n"
      ],
      "text/markdown": [
       "1. 583056\n",
       "2. 13\n",
       "\n",
       "\n"
      ],
      "text/plain": [
       "[1] 583056     13"
      ]
     },
     "metadata": {},
     "output_type": "display_data"
    },
    {
     "data": {
      "text/html": [
       "<style>\n",
       ".list-inline {list-style: none; margin:0; padding: 0}\n",
       ".list-inline>li {display: inline-block}\n",
       ".list-inline>li:not(:last-child)::after {content: \"\\00b7\"; padding: 0 .5ex}\n",
       "</style>\n",
       "<ol class=list-inline><li>19637</li><li>1420</li></ol>\n"
      ],
      "text/latex": [
       "\\begin{enumerate*}\n",
       "\\item 19637\n",
       "\\item 1420\n",
       "\\end{enumerate*}\n"
      ],
      "text/markdown": [
       "1. 19637\n",
       "2. 1420\n",
       "\n",
       "\n"
      ],
      "text/plain": [
       "[1] 19637  1420"
      ]
     },
     "metadata": {},
     "output_type": "display_data"
    }
   ],
   "source": [
    "clinvar.rt %>% dim()\n",
    "psi %>%  dim()"
   ]
  },
  {
   "cell_type": "code",
   "execution_count": 13,
   "id": "52beec06",
   "metadata": {
    "vscode": {
     "languageId": "r"
    }
   },
   "outputs": [],
   "source": [
    "clinvar_patho_types <- c(\"Pathogenic\", \"Likely_pathogenic\", \"Pathogenic/Likely_pathogenic\", \"Pathogenic|_other\", \"Pathogenic|_drug_response\", \"Likely_pathogenic|_drug_response\", \"Likely_pathogenic|_association\", \"Likely_pathogenic,_low_penetrance\", \"Likely_pathogenic|_risk_factor\", \"Pathogenic|_risk_factor\", \"Pathogenic/Likely_pathogenic|_other\", \"Pathogenic/Likely_pathogenic|_risk_factor\", \"Pathogenic|_association|_protective\")"
   ]
  },
  {
   "cell_type": "code",
   "execution_count": 14,
   "id": "c91c715f",
   "metadata": {
    "vscode": {
     "languageId": "r"
    }
   },
   "outputs": [],
   "source": [
    "#gene_info.path_var_stat <- gene_info.coord[, c(\"chr\", \"start\", \"end\")] %>% pmap_dfr(stat_path_var_in_one_exon)\n",
    "#save(gene_info.path_var_stat, file = \"/Users/suzheng/Documents/suzheng/UNSW/UNSWTasks/2022/psi_calculation/results/genomewide_PSI/psi_quanti/target_gene_psi/data/gene_info.path_var_stat.Rdata\")"
   ]
  },
  {
   "cell_type": "code",
   "execution_count": 15,
   "id": "37d22a6e",
   "metadata": {
    "vscode": {
     "languageId": "r"
    }
   },
   "outputs": [],
   "source": [
    "gnomad.var <- read.csv(\"/Users/suzheng/Documents/suzheng/UNSW/UNSWTasks/2022/psi_calculation/results/genomewide_PSI/psi_quanti/gnomAD_var_anal/all_genes.gnomAD_var.csv\")"
   ]
  },
  {
   "cell_type": "code",
   "execution_count": 16,
   "id": "594da3ab",
   "metadata": {
    "vscode": {
     "languageId": "r"
    }
   },
   "outputs": [],
   "source": [
    "gnomad.var <- rename(gnomad.var, replace=c(\"Chromosome\"=\"CHROM\", \"Position\"=\"POS\", \"VEP.Annotation\"=\"clin_sig\"))"
   ]
  },
  {
   "cell_type": "code",
   "execution_count": null,
   "id": "532821da",
   "metadata": {
    "vscode": {
     "languageId": "r"
    }
   },
   "outputs": [],
   "source": [
    "stat_some_types_of_var_in_every_exon <- function(var_df, target_var_types, res_col_name){\n",
    "    stat_var_in_one_exon <- function(chr, start, end){\n",
    "        vars.df <- var_df %>% filter(CHROM==chr & POS>=start & POS<=end)\n",
    "        path.num <- sum(vars.df$clin_sig %in% target_var_types)\n",
    "        df <- data.frame(path.num=path.num)\n",
    "        colnames(df)[1] <- res_col_name\n",
    "        df\n",
    "    }\n",
    "\n",
    "    gene_info.var_stat <- gene_info.coord[, c(\"chr\", \"start\", \"end\")] %>% pmap_dfr(stat_var_in_one_exon)\n",
    "    gene_info.var_stat\n",
    "}"
   ]
  },
  {
   "cell_type": "code",
   "execution_count": 18,
   "id": "d8a7c710",
   "metadata": {
    "vscode": {
     "languageId": "r"
    }
   },
   "outputs": [],
   "source": [
    "clinvar.path_var <-  stat_some_types_of_var_in_every_exon(clinvar.rt, clinvar_patho_types, \"clinvar.path_var\")\n",
    "gnomad.missense <-  stat_some_types_of_var_in_every_exon(gnomad.var, c(\"missense_variant\"), \"gnomad.missense\")\n",
    "gnomad.syn <-  stat_some_types_of_var_in_every_exon(gnomad.var, c(\"synonymous_variant\"), \"gnomad.syn\")\n",
    "gnomad.frameshift <-  stat_some_types_of_var_in_every_exon(gnomad.var, c(\"frameshift_variant\"), \"gnomad.frameshift\")\n",
    "gnomad.missense_inframe <-  stat_some_types_of_var_in_every_exon(gnomad.var, c(\"missense_variant\", \"inframe_deletion\", \"inframe_insertion\"), \"gnomad.missense_inframe\")\n",
    "gnomad.frameshift_stopgain <-  stat_some_types_of_var_in_every_exon(gnomad.var, c(\"frameshift_variant\", \"stop_gained\"), \"gnomad.frameshift_stopgain\")\n",
    "\n",
    "gene_info.stat <- cbind(gene_info.coord, \n",
    "                        clinvar.path_var, \n",
    "                        gnomad.missense, \n",
    "                        gnomad.syn, \n",
    "                        gnomad.frameshift, \n",
    "                        gnomad.missense_inframe,\n",
    "                        gnomad.frameshift_stopgain\n",
    "                       )\n"
   ]
  },
  {
   "cell_type": "code",
   "execution_count": null,
   "id": "01493f3d",
   "metadata": {
    "vscode": {
     "languageId": "r"
    }
   },
   "outputs": [],
   "source": [
    "\n",
    "gene_info.stat.file = \"/Users/suzheng/Documents/suzheng/UNSW/UNSWTasks/2022/psi_calculation/results/genomewide_PSI/psi_quanti/target_gene_psi/data/gene_info.exon_var_stat.Rdata\"\n",
    "save(gene_info.stat, file = gene_info.stat.file)\n",
    "\n"
   ]
  },
  {
   "cell_type": "code",
   "execution_count": 20,
   "id": "eb09fce3",
   "metadata": {
    "vscode": {
     "languageId": "r"
    }
   },
   "outputs": [],
   "source": [
    "write.table(gene_info.stat, file = paste0(gene_info.stat.file, \".tsv\"), sep=\"\\t\", quote=F, col.names=NA)"
   ]
  },
  {
   "cell_type": "code",
   "execution_count": null,
   "id": "659d4226",
   "metadata": {
    "vscode": {
     "languageId": "r"
    }
   },
   "outputs": [],
   "source": []
  }
 ],
 "metadata": {
  "kernelspec": {
   "display_name": "R",
   "language": "R",
   "name": "ir"
  },
  "language_info": {
   "codemirror_mode": "r",
   "file_extension": ".r",
   "mimetype": "text/x-r-source",
   "name": "R",
   "pygments_lexer": "r",
   "version": "4.1.3"
  }
 },
 "nbformat": 4,
 "nbformat_minor": 5
}
