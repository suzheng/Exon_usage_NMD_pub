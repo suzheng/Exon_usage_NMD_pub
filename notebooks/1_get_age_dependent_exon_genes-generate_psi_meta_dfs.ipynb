{
 "cells": [
  {
   "cell_type": "markdown",
   "id": "ded41a03",
   "metadata": {},
   "source": [
    "## This script make the psi matrix into right shape.\n",
    "This script also performs filtering to remove QC-failed samples, and remove exons with too many missing PSIs"
   ]
  },
  {
   "cell_type": "code",
   "execution_count": 3,
   "id": "32730748",
   "metadata": {},
   "outputs": [
    {
     "name": "stderr",
     "output_type": "stream",
     "text": [
      "You can cite this package as:\n",
      "     Patil, I. (2021). Visualizations with statistical details: The 'ggstatsplot' approach.\n",
      "     Journal of Open Source Software, 6(61), 3167, doi:10.21105/joss.03167\n",
      "\n",
      "Loading required package: ggplot2\n",
      "\n",
      "Registered S3 method overwritten by 'ggside':\n",
      "  method from   \n",
      "  +.gg   ggplot2\n",
      "\n",
      "\n",
      "Attaching package: ‘dplyr’\n",
      "\n",
      "\n",
      "The following objects are masked from ‘package:stats’:\n",
      "\n",
      "    filter, lag\n",
      "\n",
      "\n",
      "The following objects are masked from ‘package:base’:\n",
      "\n",
      "    intersect, setdiff, setequal, union\n",
      "\n",
      "\n",
      "Warning message in system2(\"/usr/bin/otool\", c(\"-L\", shQuote(DSO)), stdout = TRUE):\n",
      "“running command ''/usr/bin/otool' -L '/Users/suzheng/opt/anaconda3/envs/r4new/lib/R/library/tcltk/libs//tcltk.so'' had status 1”\n",
      "system might not have X11 capabilities; in case of errors when using dfSummary(), set st_options(use.x11 = FALSE)\n",
      "\n"
     ]
    }
   ],
   "source": [
    "library(ggstatsplot)\n",
    "library(ggside)\n",
    "library(dplyr)\n",
    "library(summarytools)\n",
    "library(ggfortify)"
   ]
  },
  {
   "cell_type": "code",
   "execution_count": 4,
   "id": "8b3eda99",
   "metadata": {},
   "outputs": [],
   "source": [
    "dir <- \"/Users/suzheng/Documents/suzheng/UNSW/UNSWTasks/2022/psi_calculation/results/genomewide_PSI/psi_quanti/target_gene_psi\"\n",
    "setwd(dir)"
   ]
  },
  {
   "cell_type": "code",
   "execution_count": 5,
   "id": "ab71b914",
   "metadata": {},
   "outputs": [],
   "source": [
    "len_psi <- read.csv(\"all.target_gene_psi.pasted.added_gene_symbols\", header=T, row.names=1, sep=\"\\t\", check.names=F)\n",
    "#len_psi <- read.csv(\"all.target_gene_inc.pasted.added_gene_symbols\", header=T, row.names=1, sep=\"\\t\", check.names=F)"
   ]
  },
  {
   "cell_type": "code",
   "execution_count": 6,
   "id": "d28c3c4d",
   "metadata": {},
   "outputs": [],
   "source": [
    "qc_failed_samples <- read.csv(\"all_qc_failed_samples.txt\",  header=F)"
   ]
  },
  {
   "cell_type": "code",
   "execution_count": 7,
   "id": "7379c111",
   "metadata": {},
   "outputs": [],
   "source": [
    "len <- len_psi$length\n",
    "psi <- len_psi[, -1]"
   ]
  },
  {
   "cell_type": "code",
   "execution_count": 8,
   "id": "41087a39",
   "metadata": {},
   "outputs": [],
   "source": [
    "qc_passed_samples <- !(colnames(psi) %in% qc_failed_samples[,1])"
   ]
  },
  {
   "cell_type": "code",
   "execution_count": 9,
   "id": "b927563c",
   "metadata": {},
   "outputs": [],
   "source": [
    "psi <- psi[,qc_passed_samples]"
   ]
  },
  {
   "cell_type": "code",
   "execution_count": 10,
   "id": "74517ef1",
   "metadata": {},
   "outputs": [],
   "source": [
    "na_frac <- apply(psi, 1, function(x){sum(is.na(x))/length(x)})"
   ]
  },
  {
   "cell_type": "markdown",
   "id": "29978bd2",
   "metadata": {},
   "source": [
    "### Distrubition of the missing value frequency for exons"
   ]
  },
  {
   "cell_type": "code",
   "execution_count": 16,
   "id": "5f2a4c18",
   "metadata": {},
   "outputs": [],
   "source": [
    "psi_NA_Fraction_by_gene_df <- data.frame(na_frac = na_frac)\n",
    "options(repr.plot.width=7.5, repr.plot.height=7.5)\n",
    "# Generate histogram\n",
    "psi_NA_Fraction_by_gene <- ggplot(psi_NA_Fraction_by_gene_df, aes(x=na_frac))\n",
    "save(psi_NA_Fraction_by_gene, file=paste0(Sys.getenv(\"psi_fig_tables_RData_dir\"), \"/psi_NA_Fraction_by_gene.RData\"))"
   ]
  },
  {
   "cell_type": "code",
   "execution_count": 10,
   "id": "12e15192",
   "metadata": {},
   "outputs": [],
   "source": [
    "psi <- psi[na_frac<0.4, ]"
   ]
  },
  {
   "cell_type": "code",
   "execution_count": 11,
   "id": "4da5f350",
   "metadata": {},
   "outputs": [
    {
     "data": {
      "text/html": [
       "<style>\n",
       ".list-inline {list-style: none; margin:0; padding: 0}\n",
       ".list-inline>li {display: inline-block}\n",
       ".list-inline>li:not(:last-child)::after {content: \"\\00b7\"; padding: 0 .5ex}\n",
       "</style>\n",
       "<ol class=list-inline><li>19637</li><li>1420</li></ol>\n"
      ],
      "text/latex": [
       "\\begin{enumerate*}\n",
       "\\item 19637\n",
       "\\item 1420\n",
       "\\end{enumerate*}\n"
      ],
      "text/markdown": [
       "1. 19637\n",
       "2. 1420\n",
       "\n",
       "\n"
      ],
      "text/plain": [
       "[1] 19637  1420"
      ]
     },
     "metadata": {},
     "output_type": "display_data"
    }
   ],
   "source": [
    "dim(psi)"
   ]
  },
  {
   "cell_type": "code",
   "execution_count": 12,
   "id": "f08bd5c7",
   "metadata": {},
   "outputs": [],
   "source": [
    "gtex_meta <- read.csv(\"/Users/suzheng/Documents/suzheng/UNSW/UNSWTasks/2021/velocityRNA/data/meta_data/sample_attributes.txt\", header=T, sep=\"\\t\")"
   ]
  },
  {
   "cell_type": "code",
   "execution_count": 13,
   "id": "8f523653",
   "metadata": {},
   "outputs": [
    {
     "data": {
      "text/html": [
       "<style>\n",
       ".list-inline {list-style: none; margin:0; padding: 0}\n",
       ".list-inline>li {display: inline-block}\n",
       ".list-inline>li:not(:last-child)::after {content: \"\\00b7\"; padding: 0 .5ex}\n",
       "</style>\n",
       "<ol class=list-inline><li>1094</li><li>75</li></ol>\n"
      ],
      "text/latex": [
       "\\begin{enumerate*}\n",
       "\\item 1094\n",
       "\\item 75\n",
       "\\end{enumerate*}\n"
      ],
      "text/markdown": [
       "1. 1094\n",
       "2. 75\n",
       "\n",
       "\n"
      ],
      "text/plain": [
       "[1] 1094   75"
      ]
     },
     "metadata": {},
     "output_type": "display_data"
    }
   ],
   "source": [
    "gtex_meta %>% filter(SAMPID  %in% colnames(psi)) %>% dim()"
   ]
  },
  {
   "cell_type": "code",
   "execution_count": 14,
   "id": "77436fea",
   "metadata": {},
   "outputs": [],
   "source": [
    "pw_meta <- read.csv(\"/Users/suzheng/Documents/suzheng/UNSW/UNSWTasks/2021/Broad_Perth_RNA_seq_titinopathy/meta/sample_ages_gender.txt\", header=T, sep=\"\\t\")\n",
    "gtex_meta <- read.csv(\"/Users/suzheng/Documents/suzheng/UNSW/UNSWTasks/2021/velocityRNA/data/meta_data/subject_phenotypes.txt\", header=T, sep=\"\\t\")\n",
    "rownames(pw_meta) <- pw_meta$sample\n",
    "rownames(gtex_meta) <- gtex_meta$SUBJID"
   ]
  },
  {
   "cell_type": "code",
   "execution_count": 15,
   "id": "fbfff1e8",
   "metadata": {},
   "outputs": [],
   "source": [
    "mcm_meta <- read.csv(\"/Users/suzheng/Documents/suzheng/UNSW/UNSWTasks/2022/psi_calculation/results/genomewide_PSI/meta/E-MTAB-6814.sdrf.txt.clean.added_months\", header=T, sep=\"\\t\")\n",
    "\n"
   ]
  },
  {
   "cell_type": "code",
   "execution_count": 16,
   "id": "4de79d6c",
   "metadata": {},
   "outputs": [],
   "source": [
    "gtex_sample_meta <- read.csv(\n",
    "\"/Users/suzheng/Documents/suzheng/UNSW/UNSWTasks/2021/velocityRNA/data/meta_data/sample_attributes.txt\",\n",
    "    header=T,\n",
    "    sep=\"\\t\"\n",
    ")\n"
   ]
  },
  {
   "cell_type": "code",
   "execution_count": 17,
   "id": "671c6d49",
   "metadata": {},
   "outputs": [],
   "source": [
    "gtex_sample_meta <- gtex_sample_meta[,c(\"SAMPID\", \"SMTS\", \"SMTSD\")]\n",
    "rownames(gtex_sample_meta) <- gtex_sample_meta$SAMPID"
   ]
  },
  {
   "cell_type": "code",
   "execution_count": 18,
   "id": "57b0c40b",
   "metadata": {},
   "outputs": [],
   "source": [
    "pw_index <- !grepl(\"GTEX\", colnames(psi)) & !grepl(\"Human\", colnames(psi))\n",
    "gtex_index <- grepl(\"GTEX\", colnames(psi))\n",
    "mcm_index <- grepl(\"Human\", colnames(psi))"
   ]
  },
  {
   "cell_type": "code",
   "execution_count": 19,
   "id": "5ba5beb1",
   "metadata": {},
   "outputs": [],
   "source": [
    "pw_names <- intersect(colnames(psi)[pw_index], pw_meta$sample)\n",
    "mcm_names <- intersect(colnames(psi)[mcm_index], mcm_meta$source.name)\n",
    "psi_reordered <- cbind(psi[,c(pw_names,mcm_names)], psi[,gtex_index])\n",
    "gtex_names <- colnames(psi[,gtex_index])"
   ]
  },
  {
   "cell_type": "code",
   "execution_count": 20,
   "id": "3592751a",
   "metadata": {},
   "outputs": [],
   "source": [
    "gtex_sample_meta_reordered <- gtex_sample_meta[gtex_names,]"
   ]
  },
  {
   "cell_type": "code",
   "execution_count": 21,
   "id": "a50b5303",
   "metadata": {},
   "outputs": [],
   "source": [
    "row.names(mcm_meta) <- mcm_meta$source.name\n",
    "pw_meta_reordered <- pw_meta[pw_names,]\n",
    "mcm_meta_reordered <- mcm_meta[mcm_names,]"
   ]
  },
  {
   "cell_type": "code",
   "execution_count": 22,
   "id": "887e82cf",
   "metadata": {},
   "outputs": [],
   "source": [
    "psi_gtex_subject_ids <- sapply(\n",
    "    colnames(psi)[gtex_index],\n",
    "    function(x)paste(strsplit(x, \"-\")[[1]][1], strsplit(x, \"-\")[[1]][2], sep=\"-\")\n",
    "    )\n",
    "gtex_meta_reordered <- gtex_meta[match(psi_gtex_subject_ids, gtex_meta$SUBJID), ]\n"
   ]
  },
  {
   "cell_type": "code",
   "execution_count": 23,
   "id": "4df0903d",
   "metadata": {},
   "outputs": [],
   "source": [
    "meta <- data.frame(month=c(pw_meta_reordered[, \"month\"], mcm_meta_reordered$month,12*gtex_meta_reordered[, \"AGE\"]),\n",
    "                   gender=c(pw_meta_reordered[, \"genderM1F2\"], mcm_meta_reordered$sex, gtex_meta_reordered[, \"SEX\"]),\n",
    "                   group=c(rep(\"Pathwest\", length(pw_names)), rep(\"MCM\", dim(mcm_meta_reordered)[1]), rep(\"GTEx\", dim(gtex_meta_reordered)[1])),\n",
    "                   tissue=c(rep(\"skeletal_muscle\", length(pw_names)), mcm_meta_reordered$organism.part, gtex_sample_meta_reordered$SMTS),\n",
    "                   subtissue=c(rep(\"skeletal_muscle\", length(pw_names)), mcm_meta_reordered$organism.part, gtex_sample_meta_reordered$SMTSD),\n",
    "                   disease=c(rep(\"normal\", dim(psi_reordered)[2]))\n",
    "                  )\n",
    "\n",
    "meta$gender[meta$gender==1 | meta$gender==\"male\"] <- \"Male\"\n",
    "meta$gender[meta$gender==2 | meta$gender==\"female\"] <- \"Female\"\n",
    "rownames(meta) <- colnames(psi_reordered)\n",
    "meta <- meta %>% mutate(age_group=ifelse(month < 1, \"fetal_neonatal\", ifelse(month < 18*12, \"pediatric\", \"adult\")))\n"
   ]
  },
  {
   "cell_type": "code",
   "execution_count": 24,
   "id": "ff4aafe9",
   "metadata": {},
   "outputs": [],
   "source": [
    "meta$age_group <- factor(meta$age_group, levels=c(\"fetal_neonatal\", \"pediatric\", \"adult\"))"
   ]
  },
  {
   "cell_type": "code",
   "execution_count": 25,
   "id": "00aada82",
   "metadata": {},
   "outputs": [],
   "source": [
    "meta[meta$tissue==\"Heart\", \"tissue\"] <- \"heart\"\n",
    "meta[meta$tissue==\"Muscle\", \"tissue\"] <- \"skeletal_muscle\"\n",
    "meta[meta$subtissue==\"Muscle - Skeletal\", \"subtissue\"] <- \"skeletal_muscle\""
   ]
  },
  {
   "cell_type": "markdown",
   "id": "81fa6ef4",
   "metadata": {},
   "source": [
    "Copied to overview_of_meta_data.html"
   ]
  },
  {
   "cell_type": "code",
   "execution_count": 27,
   "id": "58106a97",
   "metadata": {},
   "outputs": [],
   "source": [
    "save(psi, psi_reordered, meta, file = \"/Users/suzheng/Documents/suzheng/UNSW/UNSWTasks/2022/psi_calculation/results/genomewide_PSI/psi_quanti/target_gene_psi/data/psi_meta.Rdata\")"
   ]
  },
  {
   "cell_type": "code",
   "execution_count": 30,
   "id": "756e9079",
   "metadata": {},
   "outputs": [
    {
     "data": {
      "text/html": [
       "<style>\n",
       ".list-inline {list-style: none; margin:0; padding: 0}\n",
       ".list-inline>li {display: inline-block}\n",
       ".list-inline>li:not(:last-child)::after {content: \"\\00b7\"; padding: 0 .5ex}\n",
       "</style>\n",
       "<ol class=list-inline><li>19637</li><li>1420</li></ol>\n"
      ],
      "text/latex": [
       "\\begin{enumerate*}\n",
       "\\item 19637\n",
       "\\item 1420\n",
       "\\end{enumerate*}\n"
      ],
      "text/markdown": [
       "1. 19637\n",
       "2. 1420\n",
       "\n",
       "\n"
      ],
      "text/plain": [
       "[1] 19637  1420"
      ]
     },
     "metadata": {},
     "output_type": "display_data"
    },
    {
     "data": {
      "text/html": [
       "<style>\n",
       ".list-inline {list-style: none; margin:0; padding: 0}\n",
       ".list-inline>li {display: inline-block}\n",
       ".list-inline>li:not(:last-child)::after {content: \"\\00b7\"; padding: 0 .5ex}\n",
       "</style>\n",
       "<ol class=list-inline><li>19637</li><li>1416</li></ol>\n"
      ],
      "text/latex": [
       "\\begin{enumerate*}\n",
       "\\item 19637\n",
       "\\item 1416\n",
       "\\end{enumerate*}\n"
      ],
      "text/markdown": [
       "1. 19637\n",
       "2. 1416\n",
       "\n",
       "\n"
      ],
      "text/plain": [
       "[1] 19637  1416"
      ]
     },
     "metadata": {},
     "output_type": "display_data"
    },
    {
     "data": {
      "text/html": [
       "<style>\n",
       ".list-inline {list-style: none; margin:0; padding: 0}\n",
       ".list-inline>li {display: inline-block}\n",
       ".list-inline>li:not(:last-child)::after {content: \"\\00b7\"; padding: 0 .5ex}\n",
       "</style>\n",
       "<ol class=list-inline><li>1416</li><li>7</li></ol>\n"
      ],
      "text/latex": [
       "\\begin{enumerate*}\n",
       "\\item 1416\n",
       "\\item 7\n",
       "\\end{enumerate*}\n"
      ],
      "text/markdown": [
       "1. 1416\n",
       "2. 7\n",
       "\n",
       "\n"
      ],
      "text/plain": [
       "[1] 1416    7"
      ]
     },
     "metadata": {},
     "output_type": "display_data"
    }
   ],
   "source": [
    "dim(psi)\n",
    "dim(psi_reordered)\n",
    "dim(meta)"
   ]
  },
  {
   "cell_type": "code",
   "execution_count": 34,
   "id": "12e43058",
   "metadata": {},
   "outputs": [
    {
     "data": {
      "text/plain": [
       "                 age_group\n",
       "tissue            fetal_neonatal pediatric adult\n",
       "  forebrain                   35        11     9\n",
       "  heart                       39         8   457\n",
       "  hindbrain                   38        12     9\n",
       "  kidney                      32         8     0\n",
       "  liver                       33         5     6\n",
       "  ovary                       17         0     0\n",
       "  skeletal_muscle              5        13   640\n",
       "  testis                      27         7     5"
      ]
     },
     "metadata": {},
     "output_type": "display_data"
    }
   ],
   "source": [
    "table(meta[c(\"tissue\", \"age_group\")])"
   ]
  },
  {
   "cell_type": "code",
   "execution_count": null,
   "id": "17c2b207",
   "metadata": {},
   "outputs": [],
   "source": []
  }
 ],
 "metadata": {
  "kernelspec": {
   "display_name": "R",
   "language": "R",
   "name": "ir"
  },
  "language_info": {
   "codemirror_mode": "r",
   "file_extension": ".r",
   "mimetype": "text/x-r-source",
   "name": "R",
   "pygments_lexer": "r",
   "version": "4.1.3"
  }
 },
 "nbformat": 4,
 "nbformat_minor": 5
}
