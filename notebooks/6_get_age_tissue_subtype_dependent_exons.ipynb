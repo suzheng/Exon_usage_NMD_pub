{
 "cells": [
  {
   "cell_type": "code",
   "execution_count": 123,
   "id": "94e59e92",
   "metadata": {},
   "outputs": [],
   "source": [
    "library(ggstatsplot)\n",
    "library(ggside)\n",
    "library(dplyr)\n",
    "library(summarytools)\n",
    "library(ggfortify)\n",
    "library(plyr)\n",
    "library(purrr)\n",
    "library(hash)\n",
    "library(scales)\n",
    "library(ggridges)\n",
    "library(ggplot2)\n",
    "library(stringr)"
   ]
  },
  {
   "cell_type": "code",
   "execution_count": 124,
   "id": "e00c1809",
   "metadata": {},
   "outputs": [],
   "source": [
    "ANALYZE_ORIGINAL_DATA = FALSE\n",
    "if(ANALYZE_ORIGINAL_DATA){\n",
    "    psi_dir <- \"/Users/suzheng/Documents/suzheng/UNSW/UNSWTasks/2022/psi_calculation/results/genomewide_PSI/psi_quanti/target_gene_psi/\"\n",
    "}else{\n",
    "    psi_dir <- \"/Users/suzheng/Documents/suzheng/UNSW/UNSWTasks/2022/psi_calculation/results/genomewide_PSI/psi_quanti/target_gene_psi_IRcorrected/\"\n",
    "    \n",
    "}\n",
    "setwd(paste0(psi_dir, \"/age_tissue_subtype_dependent_exon_usage\"))\n",
    "skeletal_muscle_age_group_assoc.1 <- read.table(paste0(psi_dir, \"/skeletal_muscle_age_group_assoc.1.tsv\"))\n",
    "cardiac_muscle_age_group_assoc.1 <- read.table(paste0(psi_dir, \"/cardiac_muscle_age_group_assoc.1.tsv\"))\n",
    "skeletal_muscle_age_group_assoc.1 <- skeletal_muscle_age_group_assoc.1 %>% mutate(delta_adult_vs_fetal=mean.adult-mean.fetal_neonatal) %>% mutate(delta_adult_vs_pediatric=mean.adult-mean.pediatric) %>% mutate(delta_pediatric_vs_fetal=mean.pediatric-mean.fetal_neonatal)\n",
    "cardiac_muscle_age_group_assoc.1 <- cardiac_muscle_age_group_assoc.1 %>% mutate(delta_adult_vs_fetal=mean.adult-mean.fetal_neonatal) %>% mutate(delta_adult_vs_pediatric=mean.adult-mean.pediatric) %>% mutate(delta_pediatric_vs_fetal=mean.pediatric-mean.fetal_neonatal)\n",
    "skeletal_cardiac_stat <- full_join(skeletal_muscle_age_group_assoc.1, cardiac_muscle_age_group_assoc.1, \n",
    "                                   by=c(\"name\"=\"name\"),\n",
    "                                   suffix = c(\".skeletal\", \".cardiac\")\n",
    "                                  )\n"
   ]
  },
  {
   "cell_type": "code",
   "execution_count": null,
   "id": "c3fe85de",
   "metadata": {},
   "outputs": [],
   "source": []
  },
  {
   "cell_type": "code",
   "execution_count": 125,
   "id": "6597b329",
   "metadata": {},
   "outputs": [],
   "source": [
    "skeletal_cardiac_stat_by_exon <- skeletal_cardiac_stat %>% \n",
    "mutate(delta_skeletal_vs_cardiac.fetal_neonatal=mean.fetal_neonatal.skeletal-mean.fetal_neonatal.cardiac) %>% \n",
    "mutate(delta_skeletal_vs_cardiac.pediatric=mean.pediatric.skeletal-mean.pediatric.cardiac) %>% \n",
    "mutate(delta_skeletal_vs_cardiac.adult=mean.adult.skeletal-mean.adult.cardiac)\n",
    "\n",
    "colnames(skeletal_cardiac_stat_by_exon)[4:5] <- c(\"gene\", \"exon_num\")\n",
    "skeletal_cardiac_stat_by_exon$gene <- as.factor(skeletal_cardiac_stat_by_exon$gene)\n",
    "stat_by_gene <- skeletal_cardiac_stat_by_exon %>%\n",
    "  dplyr::group_by(gene) %>%\n",
    "  dplyr::summarize(\n",
    "    mean_fetal_neonatal_skeletal = mean(mean.fetal_neonatal.skeletal, na.rm = TRUE),\n",
    "    mean_pediatric_skeletal = mean(mean.pediatric.skeletal, na.rm = TRUE),\n",
    "    mean_adult_skeletal = mean(mean.adult.skeletal, na.rm = TRUE),\n",
    "    delta_adult_vs_fetal.skeletal = mean(delta_adult_vs_fetal.skeletal, na.rm = TRUE),\n",
    "    delta_adult_vs_pediatric.skeletal = mean(delta_adult_vs_pediatric.skeletal, na.rm = TRUE),\n",
    "    delta_pediatric_vs_fetal.skeletal = mean(delta_pediatric_vs_fetal.skeletal, na.rm = TRUE),\n",
    "    mean_fetal_neonatal_cardiac = mean(mean.fetal_neonatal.cardiac, na.rm = TRUE),\n",
    "    mean_pediatric_cardiac = mean(mean.pediatric.cardiac, na.rm = TRUE),\n",
    "    mean_adult_cardiac = mean(mean.adult.cardiac, na.rm = TRUE),\n",
    "    delta_adult_vs_fetal.cardiac = mean(delta_adult_vs_fetal.cardiac, na.rm = TRUE),\n",
    "    delta_adult_vs_pediatric.cardiac = mean(delta_adult_vs_pediatric.cardiac, na.rm = TRUE),\n",
    "    delta_pediatric_vs_fetal.cardiac = mean(delta_pediatric_vs_fetal.cardiac, na.rm = TRUE),\n",
    "    delta_skeletal_vs_cardiac.fetal_neonatal = mean(delta_skeletal_vs_cardiac.fetal_neonatal, na.rm = TRUE),\n",
    "    delta_skeletal_vs_cardiac.pediatric = mean(delta_skeletal_vs_cardiac.pediatric, na.rm = TRUE),\n",
    "    delta_skeletal_vs_cardiac.adult = mean(delta_skeletal_vs_cardiac.adult, na.rm = TRUE),    \n",
    "  )\n",
    "\n"
   ]
  },
  {
   "cell_type": "code",
   "execution_count": 126,
   "id": "7636d646",
   "metadata": {},
   "outputs": [
    {
     "name": "stderr",
     "output_type": "stream",
     "text": [
      "Warning message in eval(expr, envir, enclos):\n",
      "“NAs introduced by coercion”\n"
     ]
    }
   ],
   "source": [
    "skeletal_cardiac_stat_by_exon$exon_num_tmp <- as.numeric(skeletal_cardiac_stat_by_exon$exon_num)\n",
    "skeletal_cardiac_stat_by_exon_ordered <- skeletal_cardiac_stat_by_exon %>%\n",
    "  arrange(gene, exon_num_tmp)\n",
    "cols_of_interest <- c('gene', 'exon_num','mean.fetal_neonatal.skeletal', 'mean.pediatric.skeletal', 'mean.adult.skeletal', 'sd.fetal_neonatal.skeletal', 'sd.pediatric.skeletal', 'sd.adult.skeletal', 'delta_adult_vs_fetal.skeletal', 'delta_adult_vs_pediatric.skeletal', 'delta_pediatric_vs_fetal.skeletal', 'mean.fetal_neonatal.cardiac', 'mean.pediatric.cardiac', 'mean.adult.cardiac', 'sd.fetal_neonatal.cardiac', 'sd.pediatric.cardiac', 'sd.adult.cardiac', 'delta_adult_vs_fetal.cardiac', 'delta_adult_vs_pediatric.cardiac', 'delta_pediatric_vs_fetal.cardiac', 'delta_skeletal_vs_cardiac.fetal_neonatal', 'delta_skeletal_vs_cardiac.pediatric', 'delta_skeletal_vs_cardiac.adult')\n",
    "skeletal_cardiac_stat_by_exon_cleaned <- skeletal_cardiac_stat_by_exon_ordered[, cols_of_interest]\n"
   ]
  },
  {
   "cell_type": "code",
   "execution_count": 127,
   "id": "e89d83c8",
   "metadata": {},
   "outputs": [],
   "source": [
    "Sys.setenv(psi_fig_tables_RData_dir=\"/Users/suzheng/Documents/suzheng/UNSW/UNSWTasks/2022/psi_calculation/results/genomewide_PSI/psi_quanti/fig_tables/RData\")\n",
    "save(skeletal_cardiac_stat_by_exon_cleaned, stat_by_gene, file=paste0(Sys.getenv(\"psi_fig_tables_RData_dir\"), \"/ori_data.\", ANALYZE_ORIGINAL_DATA, \".age_tissue_subtype_dep.RData\"))\n",
    "\n"
   ]
  },
  {
   "cell_type": "code",
   "execution_count": 128,
   "id": "f7d5ca1e",
   "metadata": {},
   "outputs": [],
   "source": [
    "skeletal_cardiac_stat_by_exon_cleaned$exon_num <- sub(\"^0+\", \"\", skeletal_cardiac_stat_by_exon_cleaned$exon_num)\n",
    "write.table(skeletal_cardiac_stat_by_exon_cleaned, \n",
    "            file=paste0(Sys.getenv(\"psi_fig_tables_RData_dir\"), \"/ori_data.\", ANALYZE_ORIGINAL_DATA, \".skeletal_cardiac_stat_by_exon_cleaned.tsv\"), \n",
    "            sep = \"\\t\", \n",
    "            col.names = TRUE, \n",
    "            row.names = FALSE, \n",
    "            quote = FALSE)\n",
    "\n",
    "write.table(stat_by_gene, \n",
    "            file=paste0(Sys.getenv(\"psi_fig_tables_RData_dir\"), \"/ori_data.\", ANALYZE_ORIGINAL_DATA, \".stat_by_gene.tsv\"), \n",
    "            sep = \"\\t\", \n",
    "            col.names = TRUE, \n",
    "            row.names = FALSE, \n",
    "            quote = FALSE)\n",
    "\n"
   ]
  },
  {
   "cell_type": "code",
   "execution_count": null,
   "id": "1e4974ab",
   "metadata": {},
   "outputs": [],
   "source": []
  }
 ],
 "metadata": {
  "kernelspec": {
   "display_name": "R",
   "language": "R",
   "name": "ir"
  },
  "language_info": {
   "codemirror_mode": "r",
   "file_extension": ".r",
   "mimetype": "text/x-r-source",
   "name": "R",
   "pygments_lexer": "r",
   "version": "4.1.3"
  }
 },
 "nbformat": 4,
 "nbformat_minor": 5
}
