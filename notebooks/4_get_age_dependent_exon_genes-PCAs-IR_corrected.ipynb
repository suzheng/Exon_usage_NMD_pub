{
 "cells": [
  {
   "cell_type": "markdown",
   "id": "1c63dd57",
   "metadata": {},
   "source": [
    "### Go to notebook `2_get_age_dependent_exon_genes-PCAs`, and set `ANALYZE_ORIGINAL_DATA = FALSE` and run the notebook to perform PCA analysis on the IR-corrected psi"
   ]
  },
  {
   "cell_type": "code",
   "execution_count": null,
   "id": "72ba54df",
   "metadata": {
    "vscode": {
     "languageId": "r"
    }
   },
   "outputs": [],
   "source": []
  }
 ],
 "metadata": {
  "kernelspec": {
   "display_name": "R",
   "language": "R",
   "name": "ir"
  },
  "language_info": {
   "codemirror_mode": "r",
   "file_extension": ".r",
   "mimetype": "text/x-r-source",
   "name": "R",
   "pygments_lexer": "r",
   "version": "4.1.3"
  }
 },
 "nbformat": 4,
 "nbformat_minor": 5
}
